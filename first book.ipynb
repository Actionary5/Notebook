{
 "cells": [
  {
   "cell_type": "code",
   "execution_count": 1,
   "id": "97e384b3",
   "metadata": {},
   "outputs": [],
   "source": [
    "def anagram(a,b):\n",
    "    a=a.replace(' ','')\n",
    "    b=b.replace(' ','')\n",
    "    return sorted(a.lower())==sorted(b.lower())\n",
    "    "
   ]
  },
  {
   "cell_type": "code",
   "execution_count": 2,
   "id": "643cbf0c",
   "metadata": {},
   "outputs": [
    {
     "data": {
      "text/plain": [
       "True"
      ]
     },
     "execution_count": 2,
     "metadata": {},
     "output_type": "execute_result"
    }
   ],
   "source": [
    "anagram('dog','god')"
   ]
  },
  {
   "cell_type": "code",
   "execution_count": 3,
   "id": "c45f14d8",
   "metadata": {},
   "outputs": [
    {
     "name": "stdout",
     "output_type": "stream",
     "text": [
      "ALL TEST CASES PASSED\n"
     ]
    }
   ],
   "source": [
    "from nose.tools import assert_equal\n",
    "\n",
    "class AnagramTest(object):\n",
    "    \n",
    "    def test(self,sol):\n",
    "        assert_equal(sol('go go go','gggooo'),True)\n",
    "        assert_equal(sol('abc','cba'),True)\n",
    "        assert_equal(sol('hi man','hi     man'),True)\n",
    "        assert_equal(sol('aabbcc','aabbc'),False)\n",
    "        assert_equal(sol('123','1 2'),False)\n",
    "        print(\"ALL TEST CASES PASSED\")\n",
    "\n",
    "# Run Tests\n",
    "t = AnagramTest()\n",
    "t.test(anagram)"
   ]
  },
  {
   "cell_type": "code",
   "execution_count": 4,
   "id": "1358037a",
   "metadata": {},
   "outputs": [],
   "source": [
    "def finder(arr1,arr2):\n",
    "    for i in arr2:\n",
    "        arr1.remove(i)\n",
    "    return arr1[0]"
   ]
  },
  {
   "cell_type": "code",
   "execution_count": 5,
   "id": "be06028c",
   "metadata": {},
   "outputs": [
    {
     "name": "stdout",
     "output_type": "stream",
     "text": [
      "ALL TEST CASES PASSED\n"
     ]
    }
   ],
   "source": [
    "from nose.tools import assert_equal\n",
    "\n",
    "class TestFinder(object):\n",
    "    \n",
    "    def test(self,sol):\n",
    "        assert_equal(sol([5,5,7,7],[5,7,7]),5)\n",
    "        assert_equal(sol([1,2,3,4,5,6,7],[3,7,2,1,4,6]),5)\n",
    "        assert_equal(sol([9,8,7,6,5,4,3,2,1],[9,8,7,5,4,3,2,1]),6)\n",
    "        print('ALL TEST CASES PASSED')\n",
    "\n",
    "# Run test\n",
    "t = TestFinder()\n",
    "t.test(finder)"
   ]
  },
  {
   "cell_type": "code",
   "execution_count": 6,
   "id": "2706aa85",
   "metadata": {},
   "outputs": [],
   "source": [
    "def large_cont_sum(arr):\n",
    "    l1=[]\n",
    "    l2=[]\n",
    "    s=0\n",
    "    for i in range(len(arr)):\n",
    "        s=0\n",
    "        for j in range(i,len(arr)):\n",
    "            s=s+arr[j]\n",
    "            l1.append(s)\n",
    "        l2.append(max(l1))\n",
    "        l1.clear()\n",
    "    return max(l2)\n",
    "    "
   ]
  },
  {
   "cell_type": "code",
   "execution_count": 7,
   "id": "ab66acaf",
   "metadata": {},
   "outputs": [
    {
     "name": "stdout",
     "output_type": "stream",
     "text": [
      "ALL TEST CASES PASSED\n"
     ]
    }
   ],
   "source": [
    "from nose.tools import assert_equal\n",
    "\n",
    "class LargeContTest(object):\n",
    "    def test(self,sol):\n",
    "        assert_equal(sol([1,2,-1,3,4,-1]),9)\n",
    "        assert_equal(sol([1,2,-1,3,4,10,10,-10,-1]),29)\n",
    "        assert_equal(sol([-1,1]),1)\n",
    "        print('ALL TEST CASES PASSED')\n",
    "        \n",
    "#Run Test\n",
    "t = LargeContTest()\n",
    "t.test(large_cont_sum)"
   ]
  },
  {
   "cell_type": "code",
   "execution_count": 8,
   "id": "fa8d492a",
   "metadata": {},
   "outputs": [],
   "source": [
    "def rev_word(s):\n",
    "    l=s.split()\n",
    "    return ' '.join(l[-1::-1])"
   ]
  },
  {
   "cell_type": "code",
   "execution_count": 9,
   "id": "d5cd4850",
   "metadata": {},
   "outputs": [
    {
     "name": "stdout",
     "output_type": "stream",
     "text": [
      "ALL TEST CASES PASSED\n"
     ]
    }
   ],
   "source": [
    "from nose.tools import assert_equal\n",
    "\n",
    "class ReversalTest(object):\n",
    "    \n",
    "    def test(self,sol):\n",
    "        assert_equal(sol('    space before'),'before space')\n",
    "        assert_equal(sol('space after     '),'after space')\n",
    "        assert_equal(sol('   Hello John    how are you   '),'you are how John Hello')\n",
    "        assert_equal(sol('1'),'1')\n",
    "        print(\"ALL TEST CASES PASSED\")\n",
    "        \n",
    "# Run and test\n",
    "t = ReversalTest()\n",
    "t.test(rev_word)"
   ]
  },
  {
   "cell_type": "code",
   "execution_count": 10,
   "id": "a448c5d1",
   "metadata": {},
   "outputs": [],
   "source": [
    "def compress(s):\n",
    "    l=[]\n",
    "    o=''\n",
    "    for i in s:\n",
    "        if i not in l:\n",
    "            l.append(i)\n",
    "    for i in l:\n",
    "        o=o+i+str(s.count(i))\n",
    "    return o"
   ]
  },
  {
   "cell_type": "code",
   "execution_count": 11,
   "id": "676ca8b9",
   "metadata": {},
   "outputs": [
    {
     "name": "stdout",
     "output_type": "stream",
     "text": [
      "ALL TEST CASES PASSED\n"
     ]
    }
   ],
   "source": [
    "from nose.tools import assert_equal\n",
    "\n",
    "class TestCompress(object):\n",
    "\n",
    "    def test(self, sol):\n",
    "        assert_equal(sol(''), '')\n",
    "        assert_equal(sol('AABBCC'), 'A2B2C2')\n",
    "        assert_equal(sol('AAABCCDDDDD'), 'A3B1C2D5')\n",
    "        print('ALL TEST CASES PASSED')\n",
    "\n",
    "# Run Tests\n",
    "t = TestCompress()\n",
    "t.test(compress)"
   ]
  },
  {
   "cell_type": "code",
   "execution_count": 12,
   "id": "4d4afb93",
   "metadata": {},
   "outputs": [],
   "source": [
    "def uni_char(s):\n",
    "    l=[]\n",
    "    for i in s:\n",
    "        if i in l:\n",
    "            return False\n",
    "        l.append(i)\n",
    "    return True"
   ]
  },
  {
   "cell_type": "code",
   "execution_count": 13,
   "id": "e76b11a0",
   "metadata": {},
   "outputs": [
    {
     "name": "stdout",
     "output_type": "stream",
     "text": [
      "ALL TEST CASES PASSED\n"
     ]
    }
   ],
   "source": [
    "from nose.tools import assert_equal\n",
    "\n",
    "\n",
    "class TestUnique(object):\n",
    "\n",
    "    def test(self, sol):\n",
    "        assert_equal(sol(''), True)\n",
    "        assert_equal(sol('goo'), False)\n",
    "        assert_equal(sol('abcdefg'), True)\n",
    "        print('ALL TEST CASES PASSED')\n",
    "        \n",
    "# Run Tests\n",
    "t = TestUnique()\n",
    "t.test(uni_char)"
   ]
  },
  {
   "cell_type": "code",
   "execution_count": 14,
   "id": "463ca759",
   "metadata": {},
   "outputs": [],
   "source": [
    "def fib(n):\n",
    "    if n==0:\n",
    "        return\n",
    "    if n==1:\n",
    "        return 0\n",
    "    if n==2:\n",
    "        return 1\n",
    "    a=0\n",
    "    b=1\n",
    "    c=a+b\n",
    "    print(a)\n",
    "    print(b)\n",
    "    for i in range(n-2):\n",
    "        print(c)\n",
    "        a=b\n",
    "        b=c\n",
    "        c=a+b"
   ]
  },
  {
   "cell_type": "code",
   "execution_count": 15,
   "id": "33a317a2",
   "metadata": {},
   "outputs": [
    {
     "name": "stdout",
     "output_type": "stream",
     "text": [
      "0\n",
      "1\n",
      "1\n",
      "2\n",
      "3\n",
      "5\n",
      "8\n",
      "13\n"
     ]
    }
   ],
   "source": [
    "fib(8)"
   ]
  },
  {
   "cell_type": "code",
   "execution_count": 16,
   "id": "f6103179",
   "metadata": {},
   "outputs": [],
   "source": [
    "def fac(n):\n",
    "    if n<2:\n",
    "        return 1\n",
    "    return n*fac(n-1)"
   ]
  },
  {
   "cell_type": "code",
   "execution_count": 17,
   "id": "7f78065b",
   "metadata": {},
   "outputs": [
    {
     "data": {
      "text/plain": [
       "120"
      ]
     },
     "execution_count": 17,
     "metadata": {},
     "output_type": "execute_result"
    }
   ],
   "source": [
    "fac(5)"
   ]
  },
  {
   "cell_type": "code",
   "execution_count": 18,
   "id": "204d7e0f",
   "metadata": {},
   "outputs": [],
   "source": [
    "def gcd(a,b):\n",
    "    if b==0:\n",
    "        return a\n",
    "    return gcd(b,a%b)"
   ]
  },
  {
   "cell_type": "code",
   "execution_count": 19,
   "id": "14233106",
   "metadata": {},
   "outputs": [
    {
     "data": {
      "text/plain": [
       "6"
      ]
     },
     "execution_count": 19,
     "metadata": {},
     "output_type": "execute_result"
    }
   ],
   "source": [
    "gcd(48,18)"
   ]
  },
  {
   "cell_type": "code",
   "execution_count": 20,
   "id": "615527f8",
   "metadata": {},
   "outputs": [],
   "source": [
    "def prime(n):\n",
    "    for i in range(2,(n//2)+1):\n",
    "        if n%i==0:\n",
    "            return False\n",
    "    return True"
   ]
  },
  {
   "cell_type": "code",
   "execution_count": 21,
   "id": "48c923bf",
   "metadata": {},
   "outputs": [
    {
     "data": {
      "text/plain": [
       "True"
      ]
     },
     "execution_count": 21,
     "metadata": {},
     "output_type": "execute_result"
    }
   ],
   "source": [
    "prime(2)"
   ]
  },
  {
   "cell_type": "code",
   "execution_count": 22,
   "id": "2139d8e3",
   "metadata": {},
   "outputs": [
    {
     "name": "stdout",
     "output_type": "stream",
     "text": [
      "1  \n",
      "\n",
      "1  2  \n",
      "\n",
      "1  2  3  \n",
      "\n",
      "1  2  3  4  \n",
      "\n",
      "1  2  3  4  5  \n",
      "\n"
     ]
    }
   ],
   "source": [
    "for i in range(1,6):\n",
    "    for j in range(1,i+1):\n",
    "        print(j,end= '  ')\n",
    "    print('\\n')"
   ]
  },
  {
   "cell_type": "code",
   "execution_count": 23,
   "id": "34718c3e",
   "metadata": {},
   "outputs": [],
   "source": [
    "def binary_serach(arr,k):\n",
    "    l=0\n",
    "    h=len(arr)-1\n",
    "    while l<=h:\n",
    "        m=(l+h)//2\n",
    "        if arr[m]==k:\n",
    "            return m\n",
    "        else:\n",
    "            if arr[m]>k:\n",
    "                h=m-1\n",
    "            else:\n",
    "                l=m+1\n",
    "    return False"
   ]
  },
  {
   "cell_type": "code",
   "execution_count": 24,
   "id": "62421127",
   "metadata": {},
   "outputs": [
    {
     "data": {
      "text/plain": [
       "False"
      ]
     },
     "execution_count": 24,
     "metadata": {},
     "output_type": "execute_result"
    }
   ],
   "source": [
    "binary_serach([1,5,7,9,10,35,67,89],0)"
   ]
  },
  {
   "cell_type": "code",
   "execution_count": 25,
   "id": "8ac86265",
   "metadata": {},
   "outputs": [],
   "source": [
    "def bubble_sort(arr):\n",
    "    for i in range(len(arr)-1,0,-1):\n",
    "        for j in range(i):\n",
    "            if arr[j]>arr[j+1]:\n",
    "                arr[j],arr[j+1]=arr[j+1],arr[j]\n",
    "    return arr"
   ]
  },
  {
   "cell_type": "code",
   "execution_count": 26,
   "id": "f95b4108",
   "metadata": {},
   "outputs": [
    {
     "data": {
      "text/plain": [
       "[2, 2, 3, 4, 6, 8, 8]"
      ]
     },
     "execution_count": 26,
     "metadata": {},
     "output_type": "execute_result"
    }
   ],
   "source": [
    "bubble_sort([3,6,2,8,2,8,4])"
   ]
  },
  {
   "cell_type": "code",
   "execution_count": 1,
   "id": "015546b6",
   "metadata": {},
   "outputs": [],
   "source": [
    "def selection_sort(arr):\n",
    "    max=0\n",
    "    for i in range(len(arr)-1,0,-1):\n",
    "        max=0\n",
    "        for j in range(i):\n",
    "            if arr[j]>arr[max]:\n",
    "                max=j\n",
    "        arr[max],arr[i]=arr[i],arr[max]\n",
    "    return arr"
   ]
  },
  {
   "cell_type": "code",
   "execution_count": 2,
   "id": "8f657c56",
   "metadata": {},
   "outputs": [
    {
     "data": {
      "text/plain": [
       "[3, 4, 4, 6, 6, 7, 7]"
      ]
     },
     "execution_count": 2,
     "metadata": {},
     "output_type": "execute_result"
    }
   ],
   "source": [
    "selection_sort([4,6,6,4,7,3,7])"
   ]
  },
  {
   "cell_type": "code",
   "execution_count": 29,
   "id": "65cdd3c6",
   "metadata": {},
   "outputs": [],
   "source": [
    "def insertion_sort(arr):\n",
    "    for i in range(1,len(arr)):\n",
    "        current=arr[i]\n",
    "        k=i\n",
    "        while k>0 and arr[k-1]>current:\n",
    "            arr[k]=arr[k-1]\n",
    "            k=k-1\n",
    "            arr[k]=current\n",
    "    return arr"
   ]
  },
  {
   "cell_type": "code",
   "execution_count": 30,
   "id": "90df097d",
   "metadata": {},
   "outputs": [
    {
     "data": {
      "text/plain": [
       "[2, 4, 4, 4, 6, 7, 9]"
      ]
     },
     "execution_count": 30,
     "metadata": {},
     "output_type": "execute_result"
    }
   ],
   "source": [
    "insertion_sort([4,6,4,7,4,9,2])"
   ]
  },
  {
   "cell_type": "code",
   "execution_count": 31,
   "id": "3d06e844",
   "metadata": {},
   "outputs": [],
   "source": [
    "def merge_sort(arr):\n",
    "    \n",
    "    if len(arr)>1:\n",
    "        mid=len(arr)//2\n",
    "        lefthalf=arr[:mid]\n",
    "        righthalf=arr[mid:]\n",
    "        \n",
    "        merge_sort(lefthalf)\n",
    "        merge_sort(righthalf)\n",
    "        \n",
    "        i=0\n",
    "        j=0\n",
    "        k=0\n",
    "        \n",
    "        while i<len(lefthalf) and j<len(righthalf):\n",
    "            if lefthalf[i]<righthalf[j]:\n",
    "                arr[k]=lefthalf[i]\n",
    "                i=i+1\n",
    "            else:\n",
    "                arr[k]=righthalf[j]\n",
    "                j=j+1\n",
    "            k=k+1\n",
    "            \n",
    "        while i<len(lefthalf):\n",
    "            arr[k]=lefthalf[i]\n",
    "            i=i+1\n",
    "            k=k+1\n",
    "            \n",
    "        while j<len(righthalf):\n",
    "            arr[k]=righthalf[j]\n",
    "            j=j+1\n",
    "            k=k+1\n",
    "    return arr"
   ]
  },
  {
   "cell_type": "code",
   "execution_count": 32,
   "id": "0884ef49",
   "metadata": {},
   "outputs": [
    {
     "data": {
      "text/plain": [
       "[2, 2, 3, 3, 6, 6, 8, 76]"
      ]
     },
     "execution_count": 32,
     "metadata": {},
     "output_type": "execute_result"
    }
   ],
   "source": [
    "merge_sort([3,6,3,76,2,8,2,6])"
   ]
  },
  {
   "cell_type": "code",
   "execution_count": 33,
   "id": "aef9da46",
   "metadata": {},
   "outputs": [],
   "source": [
    "def partition(arr,l,h):\n",
    "    i=l-1\n",
    "    pivot=arr[h]\n",
    "    for j in range(l,h):\n",
    "        if arr[j]<pivot:\n",
    "            i=i+1\n",
    "            arr[j],arr[i]=arr[i],arr[j]\n",
    "    arr[i+1],arr[h]=arr[h],arr[i+1]\n",
    "    return i+1\n",
    "\n",
    "\n",
    "def quick_sort(arr,l,h):\n",
    "    if len(arr)==1:\n",
    "        return arr\n",
    "    if l<h:\n",
    "        pi=partition(arr,l,h)\n",
    "        quick_sort(arr,l,pi-1)\n",
    "        quick_sort(arr,pi+1,h)\n",
    "        return arr"
   ]
  },
  {
   "cell_type": "code",
   "execution_count": 34,
   "id": "64564503",
   "metadata": {},
   "outputs": [
    {
     "data": {
      "text/plain": [
       "[2, 3, 3, 4, 6, 7, 7]"
      ]
     },
     "execution_count": 34,
     "metadata": {},
     "output_type": "execute_result"
    }
   ],
   "source": [
    "quick_sort([4,6,3,7,2,7,3],0,6)"
   ]
  },
  {
   "cell_type": "code",
   "execution_count": 35,
   "id": "7329f414",
   "metadata": {},
   "outputs": [
    {
     "data": {
      "text/plain": [
       "3"
      ]
     },
     "execution_count": 35,
     "metadata": {},
     "output_type": "execute_result"
    }
   ],
   "source": [
    "1+2"
   ]
  },
  {
   "cell_type": "code",
   "execution_count": 36,
   "id": "b4b7b6be",
   "metadata": {},
   "outputs": [],
   "source": [
    "class stack(object):\n",
    "    def __init__(self):\n",
    "        self.items=[]\n",
    "    def isempty(self):\n",
    "        return len(self.items)==0\n",
    "    def push(self,item):\n",
    "        self.items.append(item)\n",
    "    def pop(self):\n",
    "        return self.items.pop()\n",
    "    def seek(self):\n",
    "        return self.items[len(self.items)-1]"
   ]
  },
  {
   "cell_type": "code",
   "execution_count": 37,
   "id": "43a8121a",
   "metadata": {},
   "outputs": [],
   "source": [
    "s=stack()"
   ]
  },
  {
   "cell_type": "code",
   "execution_count": 38,
   "id": "242fe0df",
   "metadata": {},
   "outputs": [
    {
     "data": {
      "text/plain": [
       "True"
      ]
     },
     "execution_count": 38,
     "metadata": {},
     "output_type": "execute_result"
    }
   ],
   "source": [
    "s.isempty()"
   ]
  },
  {
   "cell_type": "code",
   "execution_count": 39,
   "id": "32c700da",
   "metadata": {},
   "outputs": [],
   "source": [
    "s.push(5)"
   ]
  },
  {
   "cell_type": "code",
   "execution_count": 40,
   "id": "321c30fe",
   "metadata": {},
   "outputs": [],
   "source": [
    "s.push(6)"
   ]
  },
  {
   "cell_type": "code",
   "execution_count": 41,
   "id": "257625a3",
   "metadata": {},
   "outputs": [
    {
     "data": {
      "text/plain": [
       "6"
      ]
     },
     "execution_count": 41,
     "metadata": {},
     "output_type": "execute_result"
    }
   ],
   "source": [
    "s.seek()"
   ]
  },
  {
   "cell_type": "code",
   "execution_count": 42,
   "id": "66dafc15",
   "metadata": {},
   "outputs": [
    {
     "data": {
      "text/plain": [
       "6"
      ]
     },
     "execution_count": 42,
     "metadata": {},
     "output_type": "execute_result"
    }
   ],
   "source": [
    "s.pop()"
   ]
  },
  {
   "cell_type": "code",
   "execution_count": 43,
   "id": "16c364bd",
   "metadata": {},
   "outputs": [
    {
     "data": {
      "text/plain": [
       "5"
      ]
     },
     "execution_count": 43,
     "metadata": {},
     "output_type": "execute_result"
    }
   ],
   "source": [
    "s.seek()"
   ]
  },
  {
   "cell_type": "code",
   "execution_count": 45,
   "id": "b288efbe",
   "metadata": {},
   "outputs": [],
   "source": [
    "from abc import ABC,abstractmethod\n",
    "class polygon(ABC):\n",
    "    @abstractmethod\n",
    "    def noofsides(self):\n",
    "        pass\n",
    "class square(polygon):\n",
    "    def noofsides(self):\n",
    "        print('i have 4 sides')\n",
    "class triangle(polygon):\n",
    "    def noofsides(self):\n",
    "        print('i have 3 sides')"
   ]
  },
  {
   "cell_type": "code",
   "execution_count": 46,
   "id": "5ac80322",
   "metadata": {},
   "outputs": [
    {
     "name": "stdout",
     "output_type": "stream",
     "text": [
      "i have 4 sides\n"
     ]
    }
   ],
   "source": [
    "r=square()\n",
    "r.noofsides()"
   ]
  },
  {
   "cell_type": "code",
   "execution_count": 47,
   "id": "24c89a1e",
   "metadata": {},
   "outputs": [],
   "source": [
    "class cat:\n",
    "    def __init__(self,name,age):\n",
    "        self.name=name\n",
    "        self.age=age\n",
    "    def info(self):\n",
    "        print(f'I am cat, my name is {self.name} and i am {self.age} years old')\n",
    "    def make_sound(self):\n",
    "        print('meow')\n",
    "class dog:\n",
    "    def __init__(self,name,age):\n",
    "        self.name=name\n",
    "        self.age=age\n",
    "    def info(self):\n",
    "        print(f'I am dog, my name is {self.name} and i am {self.age} years old')\n",
    "    def make_sound(self):\n",
    "        print('bark')"
   ]
  },
  {
   "cell_type": "code",
   "execution_count": 50,
   "id": "7570bbef",
   "metadata": {},
   "outputs": [
    {
     "name": "stdout",
     "output_type": "stream",
     "text": [
      "I am cat, my name is kit and i am 5 years old\n",
      "meow\n",
      "I am dog, my name is max and i am 2 years old\n",
      "bark\n"
     ]
    }
   ],
   "source": [
    "d=dog('max',2)\n",
    "c=cat('kit',5)\n",
    "for i in (c,d):\n",
    "    i.info()\n",
    "    i.make_sound()"
   ]
  },
  {
   "cell_type": "code",
   "execution_count": 51,
   "id": "6f41386e",
   "metadata": {},
   "outputs": [],
   "source": [
    "from math import pi\n",
    "\n",
    "class shape:\n",
    "    def __init__(self,name):\n",
    "        self.name=name\n",
    "    def area(self):\n",
    "        pass\n",
    "    def fact(self):\n",
    "        return 'i am a 2d shape'\n",
    "    def __str__(self):\n",
    "        return self.name\n",
    "    \n",
    "class square(shape):\n",
    "    def __init__(self,length):\n",
    "        self.length=length\n",
    "        super().__init__('square')\n",
    "    def area(self):\n",
    "        return self.length**2\n",
    "    def fact(self):\n",
    "        return 'all angles are at 90 degrees'\n",
    "    \n",
    "class circle(shape):\n",
    "    def __init__(self,radius):\n",
    "        self.radius=radius\n",
    "        super().__init__('circle')\n",
    "    def area(self):\n",
    "        return pi*self.radius**2"
   ]
  },
  {
   "cell_type": "code",
   "execution_count": 52,
   "id": "58170895",
   "metadata": {},
   "outputs": [
    {
     "name": "stdout",
     "output_type": "stream",
     "text": [
      "16\n",
      "all angles are at 90 degrees\n",
      "square\n",
      "153.93804002589985\n",
      "i am a 2d shape\n",
      "circle\n"
     ]
    }
   ],
   "source": [
    "s=square(4)\n",
    "print(s.area())\n",
    "print(s.fact())\n",
    "print(s)\n",
    "c=circle(7)\n",
    "print(c.area())\n",
    "print(c.fact())\n",
    "print(c)"
   ]
  },
  {
   "cell_type": "code",
   "execution_count": 62,
   "id": "cd7545a3",
   "metadata": {},
   "outputs": [],
   "source": [
    "class computer:\n",
    "    def __init__(self):\n",
    "        self.__maxprice=900\n",
    "    def sell(self):\n",
    "        print(f\"selling price : {self.__maxprice}\")\n",
    "    def setmaxprice(self,price):\n",
    "        self.__maxprice=price"
   ]
  },
  {
   "cell_type": "code",
   "execution_count": 64,
   "id": "e5022ad3",
   "metadata": {},
   "outputs": [
    {
     "name": "stdout",
     "output_type": "stream",
     "text": [
      "selling price : 900\n"
     ]
    }
   ],
   "source": [
    "c=computer()\n",
    "c.sell()"
   ]
  },
  {
   "cell_type": "code",
   "execution_count": 65,
   "id": "e4b85caf",
   "metadata": {},
   "outputs": [
    {
     "name": "stdout",
     "output_type": "stream",
     "text": [
      "selling price : 900\n"
     ]
    }
   ],
   "source": [
    "c.__maxprice=100\n",
    "c.sell()"
   ]
  },
  {
   "cell_type": "code",
   "execution_count": 66,
   "id": "4bdb0b3d",
   "metadata": {},
   "outputs": [
    {
     "name": "stdout",
     "output_type": "stream",
     "text": [
      "selling price : 1000\n"
     ]
    }
   ],
   "source": [
    "c.setmaxprice(1000)\n",
    "c.sell()"
   ]
  },
  {
   "cell_type": "code",
   "execution_count": 20,
   "id": "5edcadb7",
   "metadata": {},
   "outputs": [],
   "source": [
    "def searchInsert(nums,target):\n",
    "        if target in nums:\n",
    "            l=0\n",
    "            h=len(nums)-1\n",
    "            while l<=h:\n",
    "                mid=(l+h)//2\n",
    "                if nums[mid]==target:\n",
    "                    return mid\n",
    "                else:\n",
    "                    if nums[mid]>target:\n",
    "                        h=mid-1\n",
    "                    else:\n",
    "                        l=mid+1\n",
    "        i=0\n",
    "        while nums[i]<target and i<len(nums):\n",
    "                i=i+1\n",
    "                if i==len(nums):\n",
    "                    return i\n",
    "        return i"
   ]
  },
  {
   "cell_type": "code",
   "execution_count": 22,
   "id": "2dd7bc0a",
   "metadata": {},
   "outputs": [
    {
     "data": {
      "text/plain": [
       "4"
      ]
     },
     "execution_count": 22,
     "metadata": {},
     "output_type": "execute_result"
    }
   ],
   "source": [
    "searchInsert([1,3,5,6],7)"
   ]
  },
  {
   "cell_type": "code",
   "execution_count": 29,
   "id": "45ca9ed2",
   "metadata": {},
   "outputs": [],
   "source": [
    "def maxsum(l):\n",
    "    l1=[]\n",
    "    l2=[]\n",
    "    for i in range(len(l)):\n",
    "        s=0\n",
    "        for j in range(i,len(l)):\n",
    "            s=s+l[j]\n",
    "            l1.append(s)\n",
    "        l2.append(max(l1))\n",
    "        l1.clear()\n",
    "    return max(l2)"
   ]
  },
  {
   "cell_type": "code",
   "execution_count": 30,
   "id": "a3014080",
   "metadata": {},
   "outputs": [
    {
     "data": {
      "text/plain": [
       "29"
      ]
     },
     "execution_count": 30,
     "metadata": {},
     "output_type": "execute_result"
    }
   ],
   "source": [
    "maxsum([1,2,-1,3,4,10,10,-10,-1])"
   ]
  },
  {
   "cell_type": "code",
   "execution_count": 1,
   "id": "ba91b3b3",
   "metadata": {},
   "outputs": [],
   "source": [
    "s='sufs  aukdedj  a,wkudw ,uaeda'.split()"
   ]
  },
  {
   "cell_type": "code",
   "execution_count": 2,
   "id": "63b4778c",
   "metadata": {},
   "outputs": [
    {
     "data": {
      "text/plain": [
       "['sufs', 'aukdedj', 'a,wkudw', ',uaeda']"
      ]
     },
     "execution_count": 2,
     "metadata": {},
     "output_type": "execute_result"
    }
   ],
   "source": [
    "s"
   ]
  },
  {
   "cell_type": "code",
   "execution_count": 7,
   "id": "810aa211",
   "metadata": {},
   "outputs": [],
   "source": [
    "def lengthOfLastWord(s):\n",
    "    return len(s.split()[-1])"
   ]
  },
  {
   "cell_type": "code",
   "execution_count": 8,
   "id": "eb9751f3",
   "metadata": {},
   "outputs": [
    {
     "data": {
      "text/plain": [
       "6"
      ]
     },
     "execution_count": 8,
     "metadata": {},
     "output_type": "execute_result"
    }
   ],
   "source": [
    "lengthOfLastWord(\"luffy is still joyboy\")"
   ]
  },
  {
   "cell_type": "code",
   "execution_count": 37,
   "id": "176f0332",
   "metadata": {},
   "outputs": [],
   "source": [
    "def plusOne(digits):\n",
    "    if digits[-1]==9:\n",
    "        i=len(digits)-1\n",
    "        c=1\n",
    "        while digits[i] == 9 and c==1 and i>=0:\n",
    "            c=(digits[i]+c)/10\n",
    "            digits[i]=(digits[i]+1)%10\n",
    "            i=i-1\n",
    "        if i==-1 and c==1:\n",
    "            digits.insert(0,1)\n",
    "        else:\n",
    "            digits[i]=digits[i]+1\n",
    "    else:\n",
    "        digits[-1]=digits[-1]+1\n",
    "    return digits"
   ]
  },
  {
   "cell_type": "code",
   "execution_count": 67,
   "id": "a897b9bd",
   "metadata": {},
   "outputs": [],
   "source": [
    "def addBinary(a,b):\n",
    "    sum = bin(int(a, 2) + int(b, 2))\n",
    "  \n",
    "    print(sum[2:])\n",
    "        \n",
    "        "
   ]
  },
  {
   "cell_type": "code",
   "execution_count": 68,
   "id": "7cf7aeaf",
   "metadata": {},
   "outputs": [
    {
     "name": "stdout",
     "output_type": "stream",
     "text": [
      "100\n"
     ]
    }
   ],
   "source": [
    "addBinary('11','1')"
   ]
  },
  {
   "cell_type": "code",
   "execution_count": 70,
   "id": "4083946d",
   "metadata": {},
   "outputs": [
    {
     "name": "stdout",
     "output_type": "stream",
     "text": [
      "3\n"
     ]
    }
   ],
   "source": [
    "s='11'\n",
    "print(int(s,2))"
   ]
  },
  {
   "cell_type": "code",
   "execution_count": 71,
   "id": "556a2bfc",
   "metadata": {},
   "outputs": [
    {
     "data": {
      "text/plain": [
       "'0b11'"
      ]
     },
     "execution_count": 71,
     "metadata": {},
     "output_type": "execute_result"
    }
   ],
   "source": [
    "bin(3)"
   ]
  },
  {
   "cell_type": "code",
   "execution_count": 11,
   "id": "c9cdd37b",
   "metadata": {},
   "outputs": [],
   "source": [
    "def calc(r,unit,arr,n):\n",
    "    if n==0:\n",
    "        return -1\n",
    "    t=r*unit\n",
    "    c=0\n",
    "    for i in range(n):\n",
    "        t=t-arr[i]\n",
    "        if t<=0:\n",
    "            return i+1\n",
    "    return 0"
   ]
  },
  {
   "cell_type": "code",
   "execution_count": 12,
   "id": "da13e17f",
   "metadata": {},
   "outputs": [
    {
     "data": {
      "text/plain": [
       "4"
      ]
     },
     "execution_count": 12,
     "metadata": {},
     "output_type": "execute_result"
    }
   ],
   "source": [
    "calc(7,2,[2,8,3,5,7,4,1,2],8)"
   ]
  },
  {
   "cell_type": "code",
   "execution_count": 18,
   "id": "88957773",
   "metadata": {},
   "outputs": [],
   "source": [
    "def binary(s):\n",
    "    a=int(s[0])\n",
    "    i=0\n",
    "    while i < len(s)-2:\n",
    "        if s[i+1]=='A':\n",
    "            a=a&int(s[i+2])\n",
    "        elif s[i+1]=='B':\n",
    "            a=a|int(s[i+2])\n",
    "        else:\n",
    "            a=a^int(s[i+2])\n",
    "        i=i+2\n",
    "    return a"
   ]
  },
  {
   "cell_type": "code",
   "execution_count": 19,
   "id": "04d12d30",
   "metadata": {},
   "outputs": [
    {
     "data": {
      "text/plain": [
       "1"
      ]
     },
     "execution_count": 19,
     "metadata": {},
     "output_type": "execute_result"
    }
   ],
   "source": [
    "binary('1C0C1C1A0B1')"
   ]
  },
  {
   "cell_type": "code",
   "execution_count": 20,
   "id": "4d4d4b21",
   "metadata": {},
   "outputs": [],
   "source": [
    "def passw(s):\n",
    "    if len(s)<4:\n",
    "        return 0\n",
    "    if s[0].isdigit():\n",
    "        return 0\n",
    "    if ' ' in s or '/' in s:\n",
    "        return 0\n",
    "    c=0\n",
    "    n=0\n",
    "    for i in s:\n",
    "        if i>='A' or i<='Z':\n",
    "            c=c+1\n",
    "        if i.isdigit():\n",
    "            n=n+1\n",
    "    if n>0 and c>0:\n",
    "        return 1\n",
    "    return 0"
   ]
  },
  {
   "cell_type": "code",
   "execution_count": 21,
   "id": "ceebefa1",
   "metadata": {},
   "outputs": [
    {
     "data": {
      "text/plain": [
       "1"
      ]
     },
     "execution_count": 21,
     "metadata": {},
     "output_type": "execute_result"
    }
   ],
   "source": [
    "passw('aA1_67')"
   ]
  },
  {
   "cell_type": "code",
   "execution_count": 27,
   "id": "afb18530",
   "metadata": {},
   "outputs": [],
   "source": [
    "def difffin(arr,n,num,diff):\n",
    "    mi=num-diff\n",
    "    ma=num+diff\n",
    "    n=0\n",
    "    for i in arr:\n",
    "        if abs(i-num)<=diff:\n",
    "            n=n+1\n",
    "    if n==0:\n",
    "        return -1\n",
    "    return n"
   ]
  },
  {
   "cell_type": "code",
   "execution_count": 28,
   "id": "7ee161ed",
   "metadata": {},
   "outputs": [
    {
     "data": {
      "text/plain": [
       "3"
      ]
     },
     "execution_count": 28,
     "metadata": {},
     "output_type": "execute_result"
    }
   ],
   "source": [
    "difffin([12,3,14,56,77,13],6,13,2)"
   ]
  },
  {
   "cell_type": "code",
   "execution_count": 41,
   "id": "ae56b677",
   "metadata": {},
   "outputs": [],
   "source": [
    "def differenceofSum(n,m):\n",
    "    o=0\n",
    "    o1=0\n",
    "    for i in range(1,m+1):\n",
    "        if i%n==0:\n",
    "            o=o+i\n",
    "        else:\n",
    "            o1=o1+i\n",
    "    return o1-o"
   ]
  },
  {
   "cell_type": "code",
   "execution_count": 42,
   "id": "0c4d7410",
   "metadata": {},
   "outputs": [
    {
     "data": {
      "text/plain": [
       "90"
      ]
     },
     "execution_count": 42,
     "metadata": {},
     "output_type": "execute_result"
    }
   ],
   "source": [
    "differenceofSum(4,20)"
   ]
  },
  {
   "cell_type": "code",
   "execution_count": 7,
   "id": "3d4c7f35",
   "metadata": {},
   "outputs": [],
   "source": [
    "def merge(nums1, m, nums2, n):\n",
    "    nums1[m:]=nums2\n",
    "    for i in range(len(nums1)-1,-1,-1):\n",
    "        for j in range(i):\n",
    "            if nums1[j]>nums1[j+1]:\n",
    "                nums1[j],nums1[j+1]=nums1[j+1],nums1[j]\n",
    "                "
   ]
  },
  {
   "cell_type": "code",
   "execution_count": 8,
   "id": "7f7f01e5",
   "metadata": {},
   "outputs": [
    {
     "data": {
      "text/plain": [
       "[5, 6, 4, 56]"
      ]
     },
     "execution_count": 8,
     "metadata": {},
     "output_type": "execute_result"
    }
   ],
   "source": [
    "l=[1,2,3,6,5,6,4,56]\n",
    "l[4:]"
   ]
  },
  {
   "cell_type": "code",
   "execution_count": 9,
   "id": "a097264d",
   "metadata": {},
   "outputs": [],
   "source": [
    "l[4:]=[2,4,6,4]"
   ]
  },
  {
   "cell_type": "code",
   "execution_count": 10,
   "id": "4c3f83c9",
   "metadata": {},
   "outputs": [
    {
     "data": {
      "text/plain": [
       "[1, 2, 3, 6, 2, 4, 6, 4]"
      ]
     },
     "execution_count": 10,
     "metadata": {},
     "output_type": "execute_result"
    }
   ],
   "source": [
    "l"
   ]
  },
  {
   "cell_type": "code",
   "execution_count": 11,
   "id": "aa3158d9",
   "metadata": {},
   "outputs": [],
   "source": [
    "nums1=[1,2,3,0,0,0]\n",
    "m=3\n",
    "n=3\n",
    "nums2=[2,5,6]\n",
    "merge(nums1, m, nums2, n)"
   ]
  },
  {
   "cell_type": "code",
   "execution_count": 12,
   "id": "daa62b77",
   "metadata": {},
   "outputs": [
    {
     "data": {
      "text/plain": [
       "[1, 2, 2, 3, 5, 6]"
      ]
     },
     "execution_count": 12,
     "metadata": {},
     "output_type": "execute_result"
    }
   ],
   "source": [
    "nums1"
   ]
  },
  {
   "cell_type": "code",
   "execution_count": 13,
   "id": "66a416a0",
   "metadata": {},
   "outputs": [],
   "source": [
    "nums1=[1]\n",
    "m=1\n",
    "n=0\n",
    "nums2=[]\n",
    "merge(nums1, m, nums2, n)"
   ]
  },
  {
   "cell_type": "code",
   "execution_count": 14,
   "id": "670eb677",
   "metadata": {},
   "outputs": [
    {
     "data": {
      "text/plain": [
       "[1]"
      ]
     },
     "execution_count": 14,
     "metadata": {},
     "output_type": "execute_result"
    }
   ],
   "source": [
    "nums1"
   ]
  },
  {
   "cell_type": "code",
   "execution_count": null,
   "id": "aa857fac",
   "metadata": {},
   "outputs": [],
   "source": []
  }
 ],
 "metadata": {
  "kernelspec": {
   "display_name": "Python 3 (ipykernel)",
   "language": "python",
   "name": "python3"
  },
  "language_info": {
   "codemirror_mode": {
    "name": "ipython",
    "version": 3
   },
   "file_extension": ".py",
   "mimetype": "text/x-python",
   "name": "python",
   "nbconvert_exporter": "python",
   "pygments_lexer": "ipython3",
   "version": "3.9.7"
  }
 },
 "nbformat": 4,
 "nbformat_minor": 5
}
