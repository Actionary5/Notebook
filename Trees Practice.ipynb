{
 "cells": [
  {
   "cell_type": "code",
   "execution_count": 1,
   "id": "a8a36c63",
   "metadata": {},
   "outputs": [],
   "source": [
    "def binarytree(r):\n",
    "    return [r,[],[]]"
   ]
  },
  {
   "cell_type": "code",
   "execution_count": 2,
   "id": "582963b3",
   "metadata": {},
   "outputs": [],
   "source": [
    "def insertLeft(root,newbranch):\n",
    "    t=root.pop(1)\n",
    "    if len(t)>1:\n",
    "        root.insert(1,[newbranch,t,[]])\n",
    "    else:\n",
    "        root.insert(1,[newbranch,[],[]])\n",
    "    return root"
   ]
  },
  {
   "cell_type": "code",
   "execution_count": 3,
   "id": "0481f143",
   "metadata": {},
   "outputs": [],
   "source": [
    "def insertright(root,newbranch):\n",
    "    t=root.pop(2)\n",
    "    if len(t)>1:\n",
    "        root.insert(2,[newbranch,[],t])\n",
    "    else:\n",
    "        root.insert(2,[newbranch,[],[]])\n",
    "    return root"
   ]
  },
  {
   "cell_type": "code",
   "execution_count": 4,
   "id": "09b70cce",
   "metadata": {},
   "outputs": [],
   "source": [
    "def getrootval(root):\n",
    "    return root[0]"
   ]
  },
  {
   "cell_type": "code",
   "execution_count": 5,
   "id": "71277f82",
   "metadata": {},
   "outputs": [],
   "source": [
    "def setrootval(root,newval):\n",
    "    root[0]=newval"
   ]
  },
  {
   "cell_type": "code",
   "execution_count": 6,
   "id": "6c07dcf8",
   "metadata": {},
   "outputs": [],
   "source": [
    "def getleftchild(root):\n",
    "    return root[1]"
   ]
  },
  {
   "cell_type": "code",
   "execution_count": 7,
   "id": "beff8fc0",
   "metadata": {},
   "outputs": [],
   "source": [
    "def getrightchild(root):\n",
    "    return root[2]"
   ]
  },
  {
   "cell_type": "code",
   "execution_count": 9,
   "id": "36655222",
   "metadata": {},
   "outputs": [],
   "source": [
    "class BinaryTree(object):\n",
    "    def __init__(self,rootobj):\n",
    "        self.key=rootobj\n",
    "        self.leftchild=None\n",
    "        self.rightchild=None\n",
    "        \n",
    "        \n",
    "    def insertleft(self,newnode):\n",
    "        if self.leftchild==None:\n",
    "            self.leftchild=BinaryTree(newnode)\n",
    "        else:\n",
    "            t=BinaryTree(newnode)\n",
    "            t.leftchild=self.leftchild\n",
    "            self.leftchild=t\n",
    "            \n",
    "    def insertright(self,newnode):\n",
    "        if self.rightchild==None:\n",
    "            self.rightchild=BinaryTree(newnode)\n",
    "        else:\n",
    "            t=BinaryTree(newnode)\n",
    "            t.rightchild=self.rightchild\n",
    "            self.rightchild=t\n",
    "            \n",
    "    def getrootval(self):\n",
    "        return self.key\n",
    "    \n",
    "    def setrootval(self,newval):\n",
    "        self.key=newval\n",
    "        \n",
    "    def getleftchild(self):\n",
    "        return self.leftchild\n",
    "    \n",
    "    def getrightchild(self):\n",
    "        return self.rightchild"
   ]
  },
  {
   "cell_type": "code",
   "execution_count": 10,
   "id": "2863899e",
   "metadata": {},
   "outputs": [
    {
     "name": "stdout",
     "output_type": "stream",
     "text": [
      "a\n",
      "None\n",
      "<__main__.BinaryTree object at 0x0000024AB7F0E4C0>\n",
      "b\n",
      "hello\n"
     ]
    }
   ],
   "source": [
    "r=BinaryTree('a')\n",
    "print(r.getrootval())\n",
    "print(r.getleftchild())\n",
    "r.insertleft('b')\n",
    "r.insertright('c')\n",
    "print(r.getleftchild())\n",
    "print(r.getleftchild().getrootval())\n",
    "r.getrightchild().setrootval('hello')\n",
    "print(r.getrightchild().getrootval())"
   ]
  },
  {
   "cell_type": "code",
   "execution_count": null,
   "id": "fa073c10",
   "metadata": {},
   "outputs": [],
   "source": []
  }
 ],
 "metadata": {
  "kernelspec": {
   "display_name": "Python 3 (ipykernel)",
   "language": "python",
   "name": "python3"
  },
  "language_info": {
   "codemirror_mode": {
    "name": "ipython",
    "version": 3
   },
   "file_extension": ".py",
   "mimetype": "text/x-python",
   "name": "python",
   "nbconvert_exporter": "python",
   "pygments_lexer": "ipython3",
   "version": "3.9.7"
  }
 },
 "nbformat": 4,
 "nbformat_minor": 5
}
