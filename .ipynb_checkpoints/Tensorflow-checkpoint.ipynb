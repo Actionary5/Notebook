{
 "cells": [
  {
   "cell_type": "code",
   "execution_count": 1,
   "id": "d7975ad6-e945-4891-8889-776a75cf99a7",
   "metadata": {},
   "outputs": [],
   "source": [
    "import tensorflow as tf"
   ]
  },
  {
   "cell_type": "code",
   "execution_count": 3,
   "id": "92693559-2d60-4ba2-9d93-23938f80bc80",
   "metadata": {},
   "outputs": [],
   "source": [
    "hello = tf.constant('Hello World')"
   ]
  },
  {
   "cell_type": "code",
   "execution_count": 4,
   "id": "dd496a90-cbe2-4e9f-9c7b-8f1d99f908e8",
   "metadata": {},
   "outputs": [
    {
     "data": {
      "text/plain": [
       "tensorflow.python.framework.ops.EagerTensor"
      ]
     },
     "execution_count": 4,
     "metadata": {},
     "output_type": "execute_result"
    }
   ],
   "source": [
    "type(hello)"
   ]
  },
  {
   "cell_type": "code",
   "execution_count": 5,
   "id": "79e436f8-bb8d-47fe-a253-cfde32a2b4fd",
   "metadata": {},
   "outputs": [],
   "source": [
    "x = tf.constant(1000)"
   ]
  },
  {
   "cell_type": "code",
   "execution_count": 6,
   "id": "c22dc362-504b-41f9-a96b-f8c1d6d82e25",
   "metadata": {},
   "outputs": [
    {
     "data": {
      "text/plain": [
       "tensorflow.python.framework.ops.EagerTensor"
      ]
     },
     "execution_count": 6,
     "metadata": {},
     "output_type": "execute_result"
    }
   ],
   "source": [
    "type(x)"
   ]
  },
  {
   "cell_type": "code",
   "execution_count": 7,
   "id": "69f16f70-99cb-4dae-bf3c-9e7a4afec5c9",
   "metadata": {},
   "outputs": [
    {
     "data": {
      "text/plain": [
       "<tf.Tensor: shape=(), dtype=int32, numpy=1000>"
      ]
     },
     "execution_count": 7,
     "metadata": {},
     "output_type": "execute_result"
    }
   ],
   "source": [
    "x"
   ]
  },
  {
   "cell_type": "code",
   "execution_count": 13,
   "id": "deb4506d-ac6e-4221-bd30-a49cdbc5c02a",
   "metadata": {},
   "outputs": [
    {
     "name": "stdout",
     "output_type": "stream",
     "text": [
      "Hello World\n"
     ]
    }
   ],
   "source": [
    "tf.print(hello)"
   ]
  },
  {
   "cell_type": "code",
   "execution_count": 14,
   "id": "6ff463a3-4d0d-4d95-8430-b0bf75a290d4",
   "metadata": {},
   "outputs": [],
   "source": [
    "# operations"
   ]
  },
  {
   "cell_type": "code",
   "execution_count": 15,
   "id": "8a5f68ec-8d3d-452b-8514-8ba5643f15ad",
   "metadata": {},
   "outputs": [],
   "source": [
    "x = tf.constant(2)"
   ]
  },
  {
   "cell_type": "code",
   "execution_count": 16,
   "id": "bc469868-7ee5-4626-8649-9ebd4bb5dec6",
   "metadata": {},
   "outputs": [],
   "source": [
    "y = tf.constant(3)"
   ]
  },
  {
   "cell_type": "code",
   "execution_count": 18,
   "id": "4a759c16-8191-4126-863e-21ade34f6903",
   "metadata": {},
   "outputs": [
    {
     "name": "stdout",
     "output_type": "stream",
     "text": [
      "tf.Tensor(2, shape=(), dtype=int32)\n"
     ]
    }
   ],
   "source": [
    "print(x)"
   ]
  },
  {
   "cell_type": "code",
   "execution_count": 21,
   "id": "afc41139-b1aa-4b11-8f14-e1c4ba198692",
   "metadata": {},
   "outputs": [
    {
     "name": "stdout",
     "output_type": "stream",
     "text": [
      "Addition:  5\n"
     ]
    }
   ],
   "source": [
    "tf.print('Addition: ',x+y)"
   ]
  },
  {
   "cell_type": "code",
   "execution_count": 22,
   "id": "69d92263-6a21-4868-8200-49fdd58031ff",
   "metadata": {},
   "outputs": [
    {
     "name": "stdout",
     "output_type": "stream",
     "text": [
      "Subtraction:  -1\n"
     ]
    }
   ],
   "source": [
    "tf.print('Subtraction: ',x-y)"
   ]
  },
  {
   "cell_type": "code",
   "execution_count": 23,
   "id": "ef720963-6313-42fa-8bb9-eec415651951",
   "metadata": {},
   "outputs": [
    {
     "name": "stdout",
     "output_type": "stream",
     "text": [
      "multiplication:  6\n"
     ]
    }
   ],
   "source": [
    "tf.print('multiplication: ',x*y)"
   ]
  },
  {
   "cell_type": "code",
   "execution_count": 30,
   "id": "92de139c-f579-4b10-aa3d-8666f0d847d8",
   "metadata": {},
   "outputs": [],
   "source": [
    "x = tf.variant"
   ]
  },
  {
   "cell_type": "code",
   "execution_count": 31,
   "id": "ca3df730-b632-4660-8ff7-72c63d16126f",
   "metadata": {},
   "outputs": [
    {
     "data": {
      "text/plain": [
       "tf.variant"
      ]
     },
     "execution_count": 31,
     "metadata": {},
     "output_type": "execute_result"
    }
   ],
   "source": [
    "x"
   ]
  },
  {
   "cell_type": "code",
   "execution_count": 32,
   "id": "002f9bb1-7201-492b-af38-d2b72d719d4b",
   "metadata": {},
   "outputs": [],
   "source": [
    "y = tf.variant"
   ]
  },
  {
   "cell_type": "code",
   "execution_count": null,
   "id": "c19ba35b-09cc-4dbf-8027-7ed948493d51",
   "metadata": {},
   "outputs": [],
   "source": []
  }
 ],
 "metadata": {
  "kernelspec": {
   "display_name": "Python 3 (ipykernel)",
   "language": "python",
   "name": "python3"
  },
  "language_info": {
   "codemirror_mode": {
    "name": "ipython",
    "version": 3
   },
   "file_extension": ".py",
   "mimetype": "text/x-python",
   "name": "python",
   "nbconvert_exporter": "python",
   "pygments_lexer": "ipython3",
   "version": "3.9.7"
  }
 },
 "nbformat": 4,
 "nbformat_minor": 5
}
